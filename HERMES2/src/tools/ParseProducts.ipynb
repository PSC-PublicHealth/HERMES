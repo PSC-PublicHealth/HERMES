{
 "cells": [
  {
   "cell_type": "code",
   "execution_count": 1,
   "metadata": {
    "collapsed": true
   },
   "outputs": [],
   "source": [
    "%matplotlib inline"
   ]
  },
  {
   "cell_type": "code",
   "execution_count": 20,
   "metadata": {
    "collapsed": true
   },
   "outputs": [],
   "source": [
    "import ipath\n",
    "import os,sys\n",
    "import csv_tools\n",
    "import csv\n",
    "import codecs"
   ]
  },
  {
   "cell_type": "code",
   "execution_count": 45,
   "metadata": {
    "collapsed": false
   },
   "outputs": [],
   "source": [
    "inputFile = \"commodityTools/PSM_SKU_VW (3).csv\"\n",
    "\n",
    "### Need to preprocess the file \n",
    "products = []\n",
    "with open(inputFile,mode=\"rb\") as f:\n",
    "    csvReader = csv.reader(f)\n",
    "    #headings = csvReader[0]\n",
    "    headFlag = True\n",
    "    for line in csvReader:\n",
    "        if headFlag:\n",
    "            headings = line\n",
    "            headings[0] = u\"Sku ID\"\n",
    "            headFlag = False\n",
    "        else:\n",
    "            if len(line) != len(headings):\n",
    "                raise RuntimeError(\"{0} and {1} do not have the same elements\".format(lineSplit,headings))\n",
    "            productDict = {}\n",
    "            for i in range(0,len(headings)):\n",
    "                productDict[headings[i]] = line[i]\n",
    "            \n",
    "            products.append(productDict)\n",
    "\n",
    "\n"
   ]
  },
  {
   "cell_type": "code",
   "execution_count": 46,
   "metadata": {
    "collapsed": false
   },
   "outputs": [
    {
     "name": "stdout",
     "output_type": "stream",
     "text": [
      "{'Dosage Form': 'Capsule', 'Units Per Export Carton': '0', 'Item Batch Yn Num': '6', 'Shelf Life': '210', 'Carton Volume Cm': '0.01522', 'Sku Name': 'Amoxicillin 500mg (anhydrous), capsules, 1000 Caps', 'Units Per Carton': '6000', 'Requires Cold Storage': 'N', 'Catalog Item Yn': 'YES', 'Sku Subcategory Desc': '', 'Sku Subcategory Code': '', 'Carton Weight Kg': '5.49', 'Freezed': 'NO', u'Sku ID': '102065', 'Ved Class': 'Essential Items', 'Scms': '1'}\n"
     ]
    }
   ],
   "source": [
    "print products[1]"
   ]
  },
  {
   "cell_type": "code",
   "execution_count": 51,
   "metadata": {
    "collapsed": false
   },
   "outputs": [],
   "source": [
    "unableToParse = []\n",
    "### now lets convert all of the products\n",
    "for product in products:\n",
    "    ## Name\n",
    "    name = \"usaid_prod_{0}\".format(products.index(product))\n",
    "    ## Display Name\n",
    "    displayName = u\"{0}\".format(product['Sku Name'].decode('utf-8'))\n",
    "    ### Method Of administraiont\n",
    "    method = u'{0}'.format(product['Dosage Form'].decode('utf-8'))\n",
    "    ### We will use Doses per vial as the number of units in a carton\n",
    "    dosesPerVial = int(product['Units Per Carton'])\n",
    "    if dosesPerVial == 0:\n",
    "        unableToParse.append(product)\n",
    "        continue\n",
    "    \n",
    "    ### Figure out the volume\n",
    "    volumePerCartonCubicMeters = float(product['Carton Volume Cm'])\n",
    "    if volumePerCartonCubicMeters == 0.0:\n",
    "        unableToParse.append(product)\n",
    "        continue\n",
    "    \n",
    "    volumePerUnitCCM = (volumePerCartonCubicMeters/dosesPerVial)*(100*100*100)\n",
    "    \n",
    "    ### Figure out lifetimes\n",
    "    shelflife = int(product['Shelf Life'])\n",
    "    requiresColdStorage = product['Requires Cold Storage']\n",
    "    if requiresColdStorage = 'Y':\n",
    "        \n",
    "                                       \n",
    "                                   "
   ]
  },
  {
   "cell_type": "code",
   "execution_count": 48,
   "metadata": {
    "collapsed": false
   },
   "outputs": [
    {
     "name": "stdout",
     "output_type": "stream",
     "text": [
      "6927\n"
     ]
    }
   ],
   "source": [
    "print len(unableToParse)"
   ]
  },
  {
   "cell_type": "code",
   "execution_count": 36,
   "metadata": {
    "collapsed": false
   },
   "outputs": [
    {
     "name": "stdout",
     "output_type": "stream",
     "text": [
      "10140\n"
     ]
    }
   ],
   "source": [
    "print len(products)"
   ]
  },
  {
   "cell_type": "code",
   "execution_count": 49,
   "metadata": {
    "collapsed": false
   },
   "outputs": [
    {
     "name": "stdout",
     "output_type": "stream",
     "text": [
      "{'Dosage Form': 'NA', 'Units Per Export Carton': '0', 'Item Batch Yn Num': '0', 'Shelf Life': '0', 'Carton Volume Cm': '0', 'Sku Name': 'Toner Cartridge, HP LaserJet 35A', 'Units Per Carton': '0', 'Requires Cold Storage': 'N', 'Catalog Item Yn': 'YES', 'Sku Subcategory Desc': 'NA', 'Sku Subcategory Code': '0', 'Carton Weight Kg': '0', 'Freezed': 'NO', u'Sku ID': '103566', 'Ved Class': 'Desirable Items', 'Scms': '1'}\n"
     ]
    }
   ],
   "source": [
    "print unableToParse[37]"
   ]
  },
  {
   "cell_type": "code",
   "execution_count": 44,
   "metadata": {
    "collapsed": false
   },
   "outputs": [
    {
     "name": "stdout",
     "output_type": "stream",
     "text": [
      "['\\xef\\xbb\\xbfSku ID', 'Sku Name', 'Sku Subcategory Code', 'Sku Subcategory Desc', 'Catalog Item Yn', 'Freezed', 'Requires Cold Storage', 'Ved Class', 'Dosage Form', 'Scms', 'Item Batch Yn Num', 'Carton Volume Cm', 'Carton Weight Kg', 'Shelf Life', 'Units Per Carton', 'Units Per Export Carton']\n"
     ]
    }
   ],
   "source": [
    "print headings"
   ]
  },
  {
   "cell_type": "code",
   "execution_count": null,
   "metadata": {
    "collapsed": true
   },
   "outputs": [],
   "source": []
  }
 ],
 "metadata": {
  "kernelspec": {
   "display_name": "Python 2",
   "language": "python",
   "name": "python2"
  },
  "language_info": {
   "codemirror_mode": {
    "name": "ipython",
    "version": 2
   },
   "file_extension": ".py",
   "mimetype": "text/x-python",
   "name": "python",
   "nbconvert_exporter": "python",
   "pygments_lexer": "ipython2",
   "version": "2.7.10"
  }
 },
 "nbformat": 4,
 "nbformat_minor": 0
}
