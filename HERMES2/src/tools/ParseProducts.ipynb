{
 "cells": [
  {
   "cell_type": "code",
   "execution_count": 1,
   "metadata": {
    "collapsed": true
   },
   "outputs": [],
   "source": [
    "%matplotlib inline"
   ]
  },
  {
   "cell_type": "code",
   "execution_count": 4,
   "metadata": {
    "collapsed": true
   },
   "outputs": [],
   "source": [
    "import ipath\n",
    "import os,sys\n",
    "import csv_tools\n",
    "import csv\n",
    "import codecs"
   ]
  },
  {
   "cell_type": "code",
   "execution_count": 5,
   "metadata": {
    "collapsed": false
   },
   "outputs": [],
   "source": [
    "inputFile = \"commodityTools/PSM_SKU_VW (3).csv\"\n",
    "\n",
    "### Need to preprocess the file \n",
    "products = []\n",
    "with open(inputFile,mode=\"rb\") as f:\n",
    "    csvReader = csv.reader(f)\n",
    "    #headings = csvReader[0]\n",
    "    headFlag = True\n",
    "    for line in csvReader:\n",
    "        if headFlag:\n",
    "            headings = line\n",
    "            headings[0] = u\"Sku ID\"\n",
    "            headFlag = False\n",
    "        else:\n",
    "            if len(line) != len(headings):\n",
    "                raise RuntimeError(\"{0} and {1} do not have the same elements\".format(lineSplit,headings))\n",
    "            productDict = {}\n",
    "            for i in range(0,len(headings)):\n",
    "                productDict[headings[i]] = line[i]\n",
    "            \n",
    "            products.append(productDict)\n",
    "\n",
    "\n"
   ]
  },
  {
   "cell_type": "code",
   "execution_count": 6,
   "metadata": {
    "collapsed": false
   },
   "outputs": [
    {
     "name": "stdout",
     "output_type": "stream",
     "text": [
      "{'Dosage Form': 'NA', 'Units Per Export Carton': '0', 'Item Batch Yn Num': '2', 'Shelf Life': '24', 'Carton Volume Cm': '0.001', 'Sku Name': 'Chase Buffer, Determine, 100 Tests, 2.5ml x 1 Vial', 'Units Per Carton': '0', 'Requires Cold Storage': 'N', 'Catalog Item Yn': 'YES', 'Sku Subcategory Desc': 'NA', 'Sku Subcategory Code': '0', 'Carton Weight Kg': '0.028', 'Freezed': 'NO', u'Sku ID': '103647', 'Ved Class': 'Desirable Items', 'Scms': '1'}\n",
      "{'Dosage Form': 'NA', 'Units Per Export Carton': '0', 'Item Batch Yn Num': '0', 'Shelf Life': '24', 'Carton Volume Cm': '0.004', 'Sku Name': 'Chase Buffer, Determine, 100 Tests, 2.5ml x 1 Vial', 'Units Per Carton': '0', 'Requires Cold Storage': 'N', 'Catalog Item Yn': 'YES', 'Sku Subcategory Desc': 'NA', 'Sku Subcategory Code': '0', 'Carton Weight Kg': '0.406', 'Freezed': 'NO', u'Sku ID': '104803', 'Ved Class': 'Desirable Items', 'Scms': '1'}\n",
      "{'Dosage Form': 'NA', 'Units Per Export Carton': '0', 'Item Batch Yn Num': '0', 'Shelf Life': '0', 'Carton Volume Cm': '0', 'Sku Name': '#109417** Hepatitis, Determine HBsAg Kit, 100 Tests', 'Units Per Carton': '0', 'Requires Cold Storage': 'N', 'Catalog Item Yn': 'YES', 'Sku Subcategory Desc': 'NA', 'Sku Subcategory Code': '0', 'Carton Weight Kg': '0', 'Freezed': 'YES', u'Sku ID': '103463', 'Ved Class': 'Desirable Items', 'Scms': '1'}\n",
      "{'Dosage Form': 'NA', 'Units Per Export Carton': '0', 'Item Batch Yn Num': '0', 'Shelf Life': '0', 'Carton Volume Cm': '0', 'Sku Name': '#109417** Determine HBS AG, 100 Tests', 'Units Per Carton': '0', 'Requires Cold Storage': 'N', 'Catalog Item Yn': 'YES', 'Sku Subcategory Desc': 'NA', 'Sku Subcategory Code': '0', 'Carton Weight Kg': '0', 'Freezed': 'YES', u'Sku ID': '103864', 'Ved Class': 'Desirable Items', 'Scms': '1'}\n",
      "{'Dosage Form': 'NA', 'Units Per Export Carton': '0', 'Item Batch Yn Num': '0', 'Shelf Life': '0', 'Carton Volume Cm': '0', 'Sku Name': '#104807** Determine Syphilis RTKit, Orgenics, 100 Tests', 'Units Per Carton': '0', 'Requires Cold Storage': 'N', 'Catalog Item Yn': 'YES', 'Sku Subcategory Desc': 'NA', 'Sku Subcategory Code': '0', 'Carton Weight Kg': '0', 'Freezed': 'YES', u'Sku ID': '103868', 'Ved Class': 'Desirable Items', 'Scms': '1'}\n",
      "{'Dosage Form': 'NA', 'Units Per Export Carton': '0', 'Item Batch Yn Num': '2', 'Shelf Life': '0', 'Carton Volume Cm': '0.002', 'Sku Name': 'Syphilis, Determine TP, Whole Blood, Kit, 100 Tests', 'Units Per Carton': '0', 'Requires Cold Storage': 'Y', 'Catalog Item Yn': 'YES', 'Sku Subcategory Desc': 'NA', 'Sku Subcategory Code': '0', 'Carton Weight Kg': '3.34', 'Freezed': 'YES', u'Sku ID': '103932', 'Ved Class': 'Desirable Items', 'Scms': '1'}\n",
      "{'Dosage Form': 'NA', 'Units Per Export Carton': '3', 'Item Batch Yn Num': '0', 'Shelf Life': '54', 'Carton Volume Cm': '0.00516', 'Sku Name': '#109417**Hepatitis, HBsAg, Determine Kit, 100 Tests', 'Units Per Carton': '0', 'Requires Cold Storage': 'Y', 'Catalog Item Yn': 'YES', 'Sku Subcategory Desc': 'NA', 'Sku Subcategory Code': '0', 'Carton Weight Kg': '1.8', 'Freezed': 'YES', u'Sku ID': '104800', 'Ved Class': 'Desirable Items', 'Scms': '1'}\n",
      "{'Dosage Form': 'NA', 'Units Per Export Carton': '0', 'Item Batch Yn Num': '0', 'Shelf Life': '24', 'Carton Volume Cm': '0.00344', 'Sku Name': '#109421**Syphilis Determine TP, Serum and Plasma, Kit, 100 Tests', 'Units Per Carton': '0', 'Requires Cold Storage': 'N', 'Catalog Item Yn': 'YES', 'Sku Subcategory Desc': 'NA', 'Sku Subcategory Code': '0', 'Carton Weight Kg': '1.2', 'Freezed': 'YES', u'Sku ID': '104807', 'Ved Class': 'Desirable Items', 'Scms': '1'}\n",
      "{'Dosage Form': '', 'Units Per Export Carton': '0', 'Item Batch Yn Num': '3', 'Shelf Life': '0', 'Carton Volume Cm': '0.006', 'Sku Name': 'Syphilis, Capillary Tubes, for Determine, EDTA, 50uL,100 Pcs', 'Units Per Carton': '300', 'Requires Cold Storage': '', 'Catalog Item Yn': 'YES', 'Sku Subcategory Desc': 'NA', 'Sku Subcategory Code': '0', 'Carton Weight Kg': '0.15', 'Freezed': 'YES', u'Sku ID': '108999', 'Ved Class': 'Desirable Items', 'Scms': '1'}\n",
      "{'Dosage Form': 'NA', 'Units Per Export Carton': '0', 'Item Batch Yn Num': '10', 'Shelf Life': '180', 'Carton Volume Cm': '0.0172', 'Sku Name': 'Hepatitis, HBsAg, Determine Kit, 100 Tests', 'Units Per Carton': '1000', 'Requires Cold Storage': 'Y', 'Catalog Item Yn': 'YES', 'Sku Subcategory Desc': 'NA', 'Sku Subcategory Code': '0', 'Carton Weight Kg': '6', 'Freezed': 'YES', u'Sku ID': '109417', 'Ved Class': 'Desirable Items', 'Scms': '1'}\n",
      "{'Dosage Form': 'NA', 'Units Per Export Carton': '0', 'Item Batch Yn Num': '1', 'Shelf Life': '0', 'Carton Volume Cm': '0.001', 'Sku Name': 'Syphilis, Determine TP, Serum and Plasma, Kit, 100 Tests', 'Units Per Carton': '100', 'Requires Cold Storage': 'N', 'Catalog Item Yn': 'YES', 'Sku Subcategory Desc': 'NA', 'Sku Subcategory Code': '0', 'Carton Weight Kg': '0.167', 'Freezed': 'YES', u'Sku ID': '109421', 'Ved Class': 'Desirable Items', 'Scms': '1'}\n",
      "{'Dosage Form': 'NA', 'Units Per Export Carton': '0', 'Item Batch Yn Num': '0', 'Shelf Life': '0', 'Carton Volume Cm': '0', 'Sku Name': 'Lancet, for Determine HIV-1/2 Tests 100 Pcs', 'Units Per Carton': '0', 'Requires Cold Storage': 'N', 'Catalog Item Yn': 'YES', 'Sku Subcategory Desc': 'Consumable', 'Sku Subcategory Code': 'CONS', 'Carton Weight Kg': '0', 'Freezed': 'YES', u'Sku ID': '105778', 'Ved Class': 'Desirable Items', 'Scms': '1'}\n",
      "{'Dosage Form': 'NA', 'Units Per Export Carton': '12', 'Item Batch Yn Num': '12', 'Shelf Life': '144', 'Carton Volume Cm': '0.036', 'Sku Name': 'HIV 1/2, Determine Complete HIV Kit, 100 Tests', 'Units Per Carton': '1200', 'Requires Cold Storage': 'N', 'Catalog Item Yn': 'YES', 'Sku Subcategory Desc': 'HIV', 'Sku Subcategory Code': 'HIV', 'Carton Weight Kg': '4.8', 'Freezed': 'NO', u'Sku ID': '102169', 'Ved Class': 'Vital Items', 'Scms': '1'}\n",
      "{'Dosage Form': 'NA', 'Units Per Export Carton': '0', 'Item Batch Yn Num': '10', 'Shelf Life': '120', 'Carton Volume Cm': '0.03', 'Sku Name': 'HIV 1/2, Determine HIV Kit, without Lancets, 100 Tests', 'Units Per Carton': '1000', 'Requires Cold Storage': 'N', 'Catalog Item Yn': 'YES', 'Sku Subcategory Desc': 'HIV', 'Sku Subcategory Code': 'HIV', 'Carton Weight Kg': '3.42', 'Freezed': 'NO', u'Sku ID': '103413', 'Ved Class': 'Vital Items', 'Scms': '1'}\n",
      "{'Dosage Form': 'NA', 'Units Per Export Carton': '0', 'Item Batch Yn Num': '8', 'Shelf Life': '0', 'Carton Volume Cm': '0.008', 'Sku Name': 'Capillary Tubes, for Determine, EDTA, 50uL,100 Pcs', 'Units Per Carton': '400', 'Requires Cold Storage': 'N', 'Catalog Item Yn': 'YES', 'Sku Subcategory Desc': 'HIV', 'Sku Subcategory Code': 'HIV', 'Carton Weight Kg': '0.2', 'Freezed': 'NO', u'Sku ID': '103729', 'Ved Class': 'Desirable Items', 'Scms': '1'}\n",
      "{'Dosage Form': '', 'Units Per Export Carton': '0', 'Item Batch Yn Num': '7', 'Shelf Life': '0', 'Carton Volume Cm': '0.007', 'Sku Name': 'HIV 1/2, Determine Kit without Lancets, Buffer or Caplillary Tubes, 100 Tests', 'Units Per Carton': '700', 'Requires Cold Storage': 'N', 'Catalog Item Yn': 'YES', 'Sku Subcategory Desc': 'HIV', 'Sku Subcategory Code': 'HIV', 'Carton Weight Kg': '7', 'Freezed': 'NO', u'Sku ID': '107993', 'Ved Class': 'Desirable Items', 'Scms': '1'}\n",
      "{'Dosage Form': '', 'Units Per Export Carton': '0', 'Item Batch Yn Num': '6', 'Shelf Life': '36', 'Carton Volume Cm': '0.00636', 'Sku Name': 'HIV 1/2, Determine Ag/Ab Combo, Kit, 100 Tests', 'Units Per Carton': '300', 'Requires Cold Storage': 'N', 'Catalog Item Yn': 'YES', 'Sku Subcategory Desc': 'HIV', 'Sku Subcategory Code': 'HIV', 'Carton Weight Kg': '0.495', 'Freezed': 'NO', u'Sku ID': '108018', 'Ved Class': 'Desirable Items', 'Scms': '1'}\n",
      "{'Dosage Form': '', 'Units Per Export Carton': '0', 'Item Batch Yn Num': '2', 'Shelf Life': '9', 'Carton Volume Cm': '0.0128', 'Sku Name': 'HIV 1/2, Determine Ag/Ab Combo, Kit, 20 Tests', 'Units Per Carton': '20', 'Requires Cold Storage': 'N', 'Catalog Item Yn': 'YES', 'Sku Subcategory Desc': 'HIV', 'Sku Subcategory Code': 'HIV', 'Carton Weight Kg': '0.394', 'Freezed': 'NO', u'Sku ID': '108648', 'Ved Class': 'Desirable Items', 'Scms': '1'}\n",
      "{'Dosage Form': '', 'Units Per Export Carton': '0', 'Item Batch Yn Num': '1', 'Shelf Life': '12', 'Carton Volume Cm': '0', 'Sku Name': 'HIV 1/2, Determine Kit, Without Lancets, buffer or capillary tubes, 20 Tests', 'Units Per Carton': '0', 'Requires Cold Storage': '', 'Catalog Item Yn': 'YES', 'Sku Subcategory Desc': 'HIV', 'Sku Subcategory Code': 'HIV', 'Carton Weight Kg': '0', 'Freezed': 'NO', u'Sku ID': '109156', 'Ved Class': 'Desirable Items', 'Scms': '1'}\n",
      "{'Dosage Form': 'NA', 'Units Per Export Carton': '0', 'Item Batch Yn Num': '7', 'Shelf Life': '84', 'Carton Volume Cm': '0.0035', 'Sku Name': 'Chase Buffer, Determine, 100 Tests, 2.5ml x 1 Vial', 'Units Per Carton': '21', 'Requires Cold Storage': 'N', 'Catalog Item Yn': 'YES', 'Sku Subcategory Desc': 'HIV', 'Sku Subcategory Code': 'HIV', 'Carton Weight Kg': '0.098', 'Freezed': 'NO', u'Sku ID': '109419', 'Ved Class': 'Desirable Items', 'Scms': '1'}\n",
      "{'Dosage Form': 'NA', 'Units Per Export Carton': '1000', 'Item Batch Yn Num': '0', 'Shelf Life': '24', 'Carton Volume Cm': '0.001', 'Sku Name': '#109419** Chase Buffer for Determine, bottle, 2.5 ml', 'Units Per Carton': '0', 'Requires Cold Storage': 'N', 'Catalog Item Yn': 'YES', 'Sku Subcategory Desc': 'HIV', 'Sku Subcategory Code': 'HIV', 'Carton Weight Kg': '0.028', 'Freezed': 'YES', u'Sku ID': '103614', 'Ved Class': 'Desirable Items', 'Scms': '1'}\n",
      "{'Dosage Form': 'NA', 'Units Per Export Carton': '0', 'Item Batch Yn Num': '1', 'Shelf Life': '0', 'Carton Volume Cm': '0', 'Sku Name': 'Syphilis Determine TP, Serum and Plasma, Kit, 100 Tests', 'Units Per Carton': '1', 'Requires Cold Storage': 'N', 'Catalog Item Yn': 'YES', 'Sku Subcategory Desc': 'Medical Equipment', 'Sku Subcategory Code': 'ME', 'Carton Weight Kg': '0', 'Freezed': 'NO', u'Sku ID': '101735', 'Ved Class': 'Desirable Items', 'Scms': '0'}\n",
      "{'Dosage Form': '', 'Units Per Export Carton': '0', 'Item Batch Yn Num': '0', 'Shelf Life': '0', 'Carton Volume Cm': '0.00525', 'Sku Name': 'Capillary Tubes, for Determine, EDTA, 50uL,100 Pcs', 'Units Per Carton': '0', 'Requires Cold Storage': '', 'Catalog Item Yn': 'YES', 'Sku Subcategory Desc': 'Lab Test', 'Sku Subcategory Code': 'TEST', 'Carton Weight Kg': '0.54', 'Freezed': 'NO', u'Sku ID': '109782', 'Ved Class': 'Desirable Items', 'Scms': '1'}\n"
     ]
    }
   ],
   "source": [
    "for product in products:\n",
    "    if product['Sku Name'].find(\"Determine\") > -1:\n",
    "        #if product['Sku Name'].find(\"30 Tabs\") > -1:\n",
    "        #    if product['Sku Name'].find(\"300/300mg\") > -1:\n",
    "        print product"
   ]
  },
  {
   "cell_type": "code",
   "execution_count": 7,
   "metadata": {
    "collapsed": false
   },
   "outputs": [
    {
     "name": "stdout",
     "output_type": "stream",
     "text": [
      "Number Of Products = 10140, Number Identified = 1396, total price = 1941\n"
     ]
    }
   ],
   "source": [
    "inputFile = \"commodityTools/SPIPELN_COMMODITYPRICE.csv\"\n",
    "\n",
    "with open(inputFile,mode=\"rb\") as f:\n",
    "    csvReader = csv.reader(f)\n",
    "    \n",
    "    headFlag=True\n",
    "    count = 0\n",
    "    totCount = 0\n",
    "    for line in csvReader:\n",
    "        if headFlag:\n",
    "            headings = line\n",
    "            headFlag = False\n",
    "        else:\n",
    "            if len(line) != len(headings):\n",
    "                raise RuntimeError(\"{0} and {1} do not have the same elements\".format(lineSplit,headings))\n",
    "            for product in products:\n",
    "                if line[0] == product['Sku ID']:\n",
    "                    count +=1 \n",
    "            totCount += 1\n",
    "            \n",
    "    print \"Number Of Products = {0}, Number Identified = {1}, total price = {2}\".format(len(products),count,totCount)"
   ]
  },
  {
   "cell_type": "code",
   "execution_count": 46,
   "metadata": {
    "collapsed": false
   },
   "outputs": [
    {
     "name": "stdout",
     "output_type": "stream",
     "text": [
      "{'Dosage Form': 'Capsule', 'Units Per Export Carton': '0', 'Item Batch Yn Num': '6', 'Shelf Life': '210', 'Carton Volume Cm': '0.01522', 'Sku Name': 'Amoxicillin 500mg (anhydrous), capsules, 1000 Caps', 'Units Per Carton': '6000', 'Requires Cold Storage': 'N', 'Catalog Item Yn': 'YES', 'Sku Subcategory Desc': '', 'Sku Subcategory Code': '', 'Carton Weight Kg': '5.49', 'Freezed': 'NO', u'Sku ID': '102065', 'Ved Class': 'Essential Items', 'Scms': '1'}\n"
     ]
    }
   ],
   "source": [
    "print products[1]"
   ]
  },
  {
   "cell_type": "code",
   "execution_count": 51,
   "metadata": {
    "collapsed": false
   },
   "outputs": [],
   "source": [
    "unableToParse = []\n",
    "### now lets convert all of the products\n",
    "for product in products:\n",
    "    ## Name\n",
    "    name = \"usaid_prod_{0}\".format(products.index(product))\n",
    "    ## Display Name\n",
    "    displayName = u\"{0}\".format(product['Sku Name'].decode('utf-8'))\n",
    "    ### Method Of administraiont\n",
    "    method = u'{0}'.format(product['Dosage Form'].decode('utf-8'))\n",
    "    ### We will use Doses per vial as the number of units in a carton\n",
    "    dosesPerVial = int(product['Units Per Carton'])\n",
    "    if dosesPerVial == 0:\n",
    "        unableToParse.append(product)\n",
    "        continue\n",
    "    \n",
    "    ### Figure out the volume\n",
    "    volumePerCartonCubicMeters = float(product['Carton Volume Cm'])\n",
    "    if volumePerCartonCubicMeters == 0.0:\n",
    "        unableToParse.append(product)\n",
    "        continue\n",
    "    \n",
    "    volumePerUnitCCM = (volumePerCartonCubicMeters/dosesPerVial)*(100*100*100)\n",
    "    \n",
    "    ### Figure out lifetimes\n",
    "    shelflife = int(product['Shelf Life'])\n",
    "    requiresColdStorage = product['Requires Cold Storage']\n",
    "    if requiresColdStorage = 'Y':\n",
    "        \n",
    "                                       \n",
    "                                   "
   ]
  },
  {
   "cell_type": "code",
   "execution_count": 48,
   "metadata": {
    "collapsed": false
   },
   "outputs": [
    {
     "name": "stdout",
     "output_type": "stream",
     "text": [
      "6927\n"
     ]
    }
   ],
   "source": [
    "print len(unableToParse)"
   ]
  },
  {
   "cell_type": "code",
   "execution_count": 36,
   "metadata": {
    "collapsed": false
   },
   "outputs": [
    {
     "name": "stdout",
     "output_type": "stream",
     "text": [
      "10140\n"
     ]
    }
   ],
   "source": [
    "print len(products)"
   ]
  },
  {
   "cell_type": "code",
   "execution_count": 49,
   "metadata": {
    "collapsed": false
   },
   "outputs": [
    {
     "name": "stdout",
     "output_type": "stream",
     "text": [
      "{'Dosage Form': 'NA', 'Units Per Export Carton': '0', 'Item Batch Yn Num': '0', 'Shelf Life': '0', 'Carton Volume Cm': '0', 'Sku Name': 'Toner Cartridge, HP LaserJet 35A', 'Units Per Carton': '0', 'Requires Cold Storage': 'N', 'Catalog Item Yn': 'YES', 'Sku Subcategory Desc': 'NA', 'Sku Subcategory Code': '0', 'Carton Weight Kg': '0', 'Freezed': 'NO', u'Sku ID': '103566', 'Ved Class': 'Desirable Items', 'Scms': '1'}\n"
     ]
    }
   ],
   "source": [
    "print unableToParse[37]"
   ]
  },
  {
   "cell_type": "code",
   "execution_count": 44,
   "metadata": {
    "collapsed": false
   },
   "outputs": [
    {
     "name": "stdout",
     "output_type": "stream",
     "text": [
      "['\\xef\\xbb\\xbfSku ID', 'Sku Name', 'Sku Subcategory Code', 'Sku Subcategory Desc', 'Catalog Item Yn', 'Freezed', 'Requires Cold Storage', 'Ved Class', 'Dosage Form', 'Scms', 'Item Batch Yn Num', 'Carton Volume Cm', 'Carton Weight Kg', 'Shelf Life', 'Units Per Carton', 'Units Per Export Carton']\n"
     ]
    }
   ],
   "source": [
    "print headings"
   ]
  },
  {
   "cell_type": "code",
   "execution_count": null,
   "metadata": {
    "collapsed": true
   },
   "outputs": [],
   "source": []
  }
 ],
 "metadata": {
  "kernelspec": {
   "display_name": "Python 2",
   "language": "python",
   "name": "python2"
  },
  "language_info": {
   "codemirror_mode": {
    "name": "ipython",
    "version": 2
   },
   "file_extension": ".py",
   "mimetype": "text/x-python",
   "name": "python",
   "nbconvert_exporter": "python",
   "pygments_lexer": "ipython2",
   "version": "2.7.11"
  }
 },
 "nbformat": 4,
 "nbformat_minor": 0
}
